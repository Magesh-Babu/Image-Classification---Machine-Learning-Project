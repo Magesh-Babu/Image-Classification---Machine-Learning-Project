{
 "cells": [
  {
   "cell_type": "raw",
   "id": "4f2788ef",
   "metadata": {},
   "source": [
    "This Project aim is to classify the images of Handwritten digits by developing the machine models through Scikit Learn library and deploying the best performing model through Streamlit library.\n",
    "MNIST datasets is used for the learning to ML model."
   ]
  },
  {
   "cell_type": "markdown",
   "id": "56db4187",
   "metadata": {},
   "source": [
    "## Import Libraries"
   ]
  },
  {
   "cell_type": "code",
   "execution_count": 1,
   "id": "244a75eb",
   "metadata": {},
   "outputs": [],
   "source": [
    "# Importing all the necessary packages for model development and deployment\n",
    "import numpy as np\n",
    "import pandas as pd\n",
    "import matplotlib.pyplot as plt\n",
    "import matplotlib as mpl\n",
    "\n",
    "from sklearn.pipeline import Pipeline\n",
    "from sklearn.preprocessing import StandardScaler\n",
    "from sklearn.decomposition import PCA\n",
    "\n",
    "from sklearn.datasets import fetch_openml\n",
    "from sklearn.model_selection import train_test_split, GridSearchCV\n",
    "\n",
    "from sklearn.linear_model import LogisticRegression\n",
    "from sklearn.tree import DecisionTreeClassifier\n",
    "from sklearn.ensemble import RandomForestClassifier\n",
    "from sklearn.neighbors import KNeighborsClassifier\n",
    "\n",
    "from sklearn.metrics import accuracy_score, classification_report\n",
    "from sklearn.metrics import confusion_matrix, ConfusionMatrixDisplay\n",
    "\n",
    "import joblib\n",
    "import streamlit as st\n",
    "from PIL import Image, ImageOps"
   ]
  },
  {
   "cell_type": "code",
   "execution_count": 2,
   "id": "850d8224",
   "metadata": {},
   "outputs": [],
   "source": [
    "# Creating function for displaying confusion matrix\n",
    "def display_confusion_matrix(y_test, y_pred):\n",
    "    cm = confusion_matrix(y_test, y_pred)\n",
    "    ConfusionMatrixDisplay(cm).plot()\n"
   ]
  },
  {
   "cell_type": "code",
   "execution_count": null,
   "id": "d9972296",
   "metadata": {},
   "outputs": [],
   "source": []
  },
  {
   "cell_type": "markdown",
   "id": "3e441783",
   "metadata": {},
   "source": [
    "## Loading MNIST datasets from Scikit Learn"
   ]
  },
  {
   "cell_type": "code",
   "execution_count": 3,
   "id": "fe204e96",
   "metadata": {},
   "outputs": [],
   "source": [
    "# Load the MNIST dataset\n",
    "mnist = fetch_openml('mnist_784', version=1, parser='auto', cache=True, as_frame=False)\n",
    "\n",
    "X = mnist[\"data\"]\n",
    "y = mnist[\"target\"].astype(np.uint8)"
   ]
  },
  {
   "cell_type": "code",
   "execution_count": 4,
   "id": "2ba278fa",
   "metadata": {},
   "outputs": [
    {
     "data": {
      "text/plain": [
       "<matplotlib.image.AxesImage at 0x1ea492f7280>"
      ]
     },
     "execution_count": 4,
     "metadata": {},
     "output_type": "execute_result"
    },
    {
     "data": {
      "image/png": "[encoded data removed]",
      "text/plain": [
       "<Figure size 640x480 with 1 Axes>"
      ]
     },
     "metadata": {},
     "output_type": "display_data"
    }
   ],
   "source": [
    "# Visualizing MNIST data by taking only one record.\n",
    "# Plotting the features of the X data, it looks like a 5.\n",
    "some_digit = X[0]\n",
    "some_digit_image = some_digit.reshape(28, 28)\n",
    "plt.imshow(some_digit_image, cmap=mpl.cm.binary)\n",
    "# plt.axis(\"off\")"
   ]
  },
  {
   "cell_type": "code",
   "execution_count": 5,
   "id": "d4e0476d",
   "metadata": {},
   "outputs": [
    {
     "data": {
      "text/plain": [
       "5"
      ]
     },
     "execution_count": 5,
     "metadata": {},
     "output_type": "execute_result"
    }
   ],
   "source": [
    "# The first label (\"true answer\") is 5. \n",
    "y[0]"
   ]
  },
  {
   "cell_type": "markdown",
   "id": "e2be1a3a",
   "metadata": {},
   "source": [
    "## Splitting Datasets"
   ]
  },
  {
   "cell_type": "code",
   "execution_count": 6,
   "id": "acb94380",
   "metadata": {},
   "outputs": [],
   "source": [
    "# Split the data into training, validation and testing sets\n",
    "X_train_val, X_test, y_train_val, y_test = train_test_split(X, y, test_size=10000, random_state=42)\n",
    "\n",
    "X_train, X_val, y_train, y_val = train_test_split(X_train_val, y_train_val, test_size=10000, random_state=42)"
   ]
  },
  {
   "cell_type": "code",
   "execution_count": 7,
   "id": "809528ed",
   "metadata": {},
   "outputs": [
    {
     "name": "stdout",
     "output_type": "stream",
     "text": [
      "(50000, 784)\n",
      "(50000,)\n",
      "(10000, 784)\n",
      "(10000,)\n",
      "(10000, 784)\n",
      "(10000,)\n"
     ]
    }
   ],
   "source": [
    "print(X_train.shape)\n",
    "print(y_train.shape)\n",
    "print(X_val.shape)\n",
    "print(y_val.shape)\n",
    "print(X_test.shape)\n",
    "print(y_test.shape)"
   ]
  },
  {
   "cell_type": "markdown",
   "id": "d2f324b3",
   "metadata": {},
   "source": [
    "## Applying Standardization and Dimentionality Reduction"
   ]
  },
  {
   "cell_type": "code",
   "execution_count": 8,
   "id": "445c60e1",
   "metadata": {},
   "outputs": [],
   "source": [
    "# Standardizing the data.\n",
    "scaler = StandardScaler()\n",
    "X_train_scaled = scaler.fit_transform(X_train)\n",
    "X_val_scaled = scaler.transform(X_val)  # Only transforming the validation data. \n",
    "X_test_scaled = scaler.transform(X_test)  # Only transforming the test data."
   ]
  },
  {
   "cell_type": "code",
   "execution_count": 9,
   "id": "6bc58eac",
   "metadata": {},
   "outputs": [],
   "source": [
    "# Apply PCA\n",
    "pca = PCA(n_components=0.95)  # Retain 95% of variance\n",
    "X_train_pca = pca.fit_transform(X_train_scaled)\n",
    "X_val_pca = pca.transform(X_val_scaled)\n",
    "X_test_pca = pca.transform(X_test_scaled)\n",
    "\n",
    "# We are going to use the above processed datasets only in Logistic regression and KNN model for the effective performance.\n",
    "# But Decision Tree and Random forest does not need scaling and PCA technique because it may affect the model performance."
   ]
  },
  {
   "cell_type": "markdown",
   "id": "4bbe827b",
   "metadata": {},
   "source": [
    "## Parameter Grid"
   ]
  },
  {
   "cell_type": "code",
   "execution_count": 10,
   "id": "25e80f3b",
   "metadata": {},
   "outputs": [],
   "source": [
    "# Define parameter grids for hyperparameter tuning\n",
    "param_grid_lr = {\n",
    "    'classifier__C': [0.01, 0.1, 1]\n",
    "}\n",
    "\n",
    "param_grid_dt = {\n",
    "    'classifier__max_depth': [None, 10, 20, 30],\n",
    "    'classifier__min_samples_split': [2, 5, 10],\n",
    "    'classifier__min_samples_leaf': [1, 2, 4]\n",
    "}\n",
    "\n",
    "param_grid_rf = {\n",
    "    'classifier__n_estimators': [50, 100, 150],\n",
    "    'classifier__max_depth': [None, 5, 10],\n",
    "    'classifier__min_samples_split': [2, 5, 7]\n",
    "}\n",
    "\n",
    "param_grid_knn = {\n",
    "    'classifier__n_neighbors': [3, 5, 7],\n",
    "    'classifier__weights': ['uniform', 'distance']\n",
    "}"
   ]
  },
  {
   "cell_type": "markdown",
   "id": "b12cec81",
   "metadata": {},
   "source": [
    "## Pipeline Creation"
   ]
  },
  {
   "cell_type": "code",
   "execution_count": 11,
   "id": "f8ad9da1",
   "metadata": {},
   "outputs": [],
   "source": [
    "# Build pipelines for each model\n",
    "pipe_lr = Pipeline([\n",
    "    ('classifier', LogisticRegression(max_iter=2000)) # when training, model requires to increase \"max_iter\" parameter.\n",
    "])\n",
    "\n",
    "pipe_dt = Pipeline([\n",
    "    ('classifier', DecisionTreeClassifier())\n",
    "])\n",
    "\n",
    "pipe_rf = Pipeline([\n",
    "    ('classifier', RandomForestClassifier())\n",
    "])\n",
    "\n",
    "pipe_knn = Pipeline([\n",
    "    ('classifier', KNeighborsClassifier())\n",
    "])"
   ]
  },
  {
   "cell_type": "markdown",
   "id": "761b9f74",
   "metadata": {},
   "source": [
    "## Applying GridsearchCV and Fitting the model"
   ]
  },
  {
   "cell_type": "code",
   "execution_count": 12,
   "id": "f724aa05",
   "metadata": {},
   "outputs": [],
   "source": [
    "# Create GridSearchCV instances for each model\n",
    "grid_search_lr = GridSearchCV(pipe_lr, param_grid_lr, cv=5, scoring='accuracy')\n",
    "grid_search_dt = GridSearchCV(pipe_dt, param_grid_dt, cv=5, scoring='accuracy')\n",
    "grid_search_rf = GridSearchCV(pipe_rf, param_grid_rf, cv=5, scoring='accuracy')\n",
    "grid_search_knn = GridSearchCV(pipe_knn, param_grid_knn, cv=5, scoring='accuracy')"
   ]
  },
  {
   "cell_type": "code",
   "execution_count": 13,
   "id": "da05bd43",
   "metadata": {},
   "outputs": [
    {
     "data": {
      "text/html": [
       "<style>#sk-container-id-1 {color: black;}#sk-container-id-1 pre{padding: 0;}#sk-container-id-1 div.sk-toggleable {background-color: white;}#sk-container-id-1 label.sk-toggleable__label {cursor: pointer;display: block;width: 100%;margin-bottom: 0;padding: 0.3em;box-sizing: border-box;text-align: center;}#sk-container-id-1 label.sk-toggleable__label-arrow:before {content: \"▸\";float: left;margin-right: 0.25em;color: #696969;}#sk-container-id-1 label.sk-toggleable__label-arrow:hover:before {color: black;}#sk-container-id-1 div.sk-estimator:hover label.sk-toggleable__label-arrow:before {color: black;}#sk-container-id-1 div.sk-toggleable__content {max-height: 0;max-width: 0;overflow: hidden;text-align: left;background-color: #f0f8ff;}#sk-container-id-1 div.sk-toggleable__content pre {margin: 0.2em;color: black;border-radius: 0.25em;background-color: #f0f8ff;}#sk-container-id-1 input.sk-toggleable__control:checked~div.sk-toggleable__content {max-height: 200px;max-width: 100%;overflow: auto;}#sk-container-id-1 input.sk-toggleable__control:checked~label.sk-toggleable__label-arrow:before {content: \"▾\";}#sk-container-id-1 div.sk-estimator input.sk-toggleable__control:checked~label.sk-toggleable__label {background-color: #d4ebff;}#sk-container-id-1 div.sk-label input.sk-toggleable__control:checked~label.sk-toggleable__label {background-color: #d4ebff;}#sk-container-id-1 input.sk-hidden--visually {border: 0;clip: rect(1px 1px 1px 1px);clip: rect(1px, 1px, 1px, 1px);height: 1px;margin: -1px;overflow: hidden;padding: 0;position: absolute;width: 1px;}#sk-container-id-1 div.sk-estimator {font-family: monospace;background-color: #f0f8ff;border: 1px dotted black;border-radius: 0.25em;box-sizing: border-box;margin-bottom: 0.5em;}#sk-container-id-1 div.sk-estimator:hover {background-color: #d4ebff;}#sk-container-id-1 div.sk-parallel-item::after {content: \"\";width: 100%;border-bottom: 1px solid gray;flex-grow: 1;}#sk-container-id-1 div.sk-label:hover label.sk-toggleable__label {background-color: #d4ebff;}#sk-container-id-1 div.sk-serial::before {content: \"\";position: absolute;border-left: 1px solid gray;box-sizing: border-box;top: 0;bottom: 0;left: 50%;z-index: 0;}#sk-container-id-1 div.sk-serial {display: flex;flex-direction: column;align-items: center;background-color: white;padding-right: 0.2em;padding-left: 0.2em;position: relative;}#sk-container-id-1 div.sk-item {position: relative;z-index: 1;}#sk-container-id-1 div.sk-parallel {display: flex;align-items: stretch;justify-content: center;background-color: white;position: relative;}#sk-container-id-1 div.sk-item::before, #sk-container-id-1 div.sk-parallel-item::before {content: \"\";position: absolute;border-left: 1px solid gray;box-sizing: border-box;top: 0;bottom: 0;left: 50%;z-index: -1;}#sk-container-id-1 div.sk-parallel-item {display: flex;flex-direction: column;z-index: 1;position: relative;background-color: white;}#sk-container-id-1 div.sk-parallel-item:first-child::after {align-self: flex-end;width: 50%;}#sk-container-id-1 div.sk-parallel-item:last-child::after {align-self: flex-start;width: 50%;}#sk-container-id-1 div.sk-parallel-item:only-child::after {width: 0;}#sk-container-id-1 div.sk-dashed-wrapped {border: 1px dashed gray;margin: 0 0.4em 0.5em 0.4em;box-sizing: border-box;padding-bottom: 0.4em;background-color: white;}#sk-container-id-1 div.sk-label label {font-family: monospace;font-weight: bold;display: inline-block;line-height: 1.2em;}#sk-container-id-1 div.sk-label-container {text-align: center;}#sk-container-id-1 div.sk-container {/* jupyter's `normalize.less` sets `[hidden] { display: none; }` but bootstrap.min.css set `[hidden] { display: none !important; }` so we also need the `!important` here to be able to override the default hidden behavior on the sphinx rendered scikit-learn.org. See: https://github.com/scikit-learn/scikit-learn/issues/21755 */display: inline-block !important;position: relative;}#sk-container-id-1 div.sk-text-repr-fallback {display: none;}</style><div id=\"sk-container-id-1\" class=\"sk-top-container\"><div class=\"sk-text-repr-fallback\"><pre>GridSearchCV(cv=5,\n",
       "             estimator=Pipeline(steps=[(&#x27;classifier&#x27;, KNeighborsClassifier())]),\n",
       "             param_grid={&#x27;classifier__n_neighbors&#x27;: [3, 5, 7],\n",
       "                         &#x27;classifier__weights&#x27;: [&#x27;uniform&#x27;, &#x27;distance&#x27;]},\n",
       "             scoring=&#x27;accuracy&#x27;)</pre><b>In a Jupyter environment, please rerun this cell to show the HTML representation or trust the notebook. <br />On GitHub, the HTML representation is unable to render, please try loading this page with nbviewer.org.</b></div><div class=\"sk-container\" hidden><div class=\"sk-item sk-dashed-wrapped\"><div class=\"sk-label-container\"><div class=\"sk-label sk-toggleable\"><input class=\"sk-toggleable__control sk-hidden--visually\" id=\"sk-estimator-id-1\" type=\"checkbox\" ><label for=\"sk-estimator-id-1\" class=\"sk-toggleable__label sk-toggleable__label-arrow\">GridSearchCV</label><div class=\"sk-toggleable__content\"><pre>GridSearchCV(cv=5,\n",
       "             estimator=Pipeline(steps=[(&#x27;classifier&#x27;, KNeighborsClassifier())]),\n",
       "             param_grid={&#x27;classifier__n_neighbors&#x27;: [3, 5, 7],\n",
       "                         &#x27;classifier__weights&#x27;: [&#x27;uniform&#x27;, &#x27;distance&#x27;]},\n",
       "             scoring=&#x27;accuracy&#x27;)</pre></div></div></div><div class=\"sk-parallel\"><div class=\"sk-parallel-item\"><div class=\"sk-item\"><div class=\"sk-label-container\"><div class=\"sk-label sk-toggleable\"><input class=\"sk-toggleable__control sk-hidden--visually\" id=\"sk-estimator-id-2\" type=\"checkbox\" ><label for=\"sk-estimator-id-2\" class=\"sk-toggleable__label sk-toggleable__label-arrow\">estimator: Pipeline</label><div class=\"sk-toggleable__content\"><pre>Pipeline(steps=[(&#x27;classifier&#x27;, KNeighborsClassifier())])</pre></div></div></div><div class=\"sk-serial\"><div class=\"sk-item\"><div class=\"sk-serial\"><div class=\"sk-item\"><div class=\"sk-estimator sk-toggleable\"><input class=\"sk-toggleable__control sk-hidden--visually\" id=\"sk-estimator-id-3\" type=\"checkbox\" ><label for=\"sk-estimator-id-3\" class=\"sk-toggleable__label sk-toggleable__label-arrow\">KNeighborsClassifier</label><div class=\"sk-toggleable__content\"><pre>KNeighborsClassifier()</pre></div></div></div></div></div></div></div></div></div></div></div></div>"
      ],
      "text/plain": [
       "GridSearchCV(cv=5,\n",
       "             estimator=Pipeline(steps=[('classifier', KNeighborsClassifier())]),\n",
       "             param_grid={'classifier__n_neighbors': [3, 5, 7],\n",
       "                         'classifier__weights': ['uniform', 'distance']},\n",
       "             scoring='accuracy')"
      ]
     },
     "execution_count": 13,
     "metadata": {},
     "output_type": "execute_result"
    }
   ],
   "source": [
    "# Fit GridSearchCV to training data\n",
    "grid_search_lr.fit(X_train_pca, y_train)\n",
    "grid_search_dt.fit(X_train, y_train)\n",
    "grid_search_rf.fit(X_train, y_train)\n",
    "grid_search_knn.fit(X_train_pca, y_train)"
   ]
  },
  {
   "cell_type": "code",
   "execution_count": null,
   "id": "83026cb2",
   "metadata": {},
   "outputs": [],
   "source": []
  },
  {
   "cell_type": "code",
   "execution_count": 14,
   "id": "6711cd0e",
   "metadata": {},
   "outputs": [
    {
     "data": {
      "text/plain": [
       "['model_knn.pkl']"
      ]
     },
     "execution_count": 14,
     "metadata": {},
     "output_type": "execute_result"
    }
   ],
   "source": [
    "# save the trained model\n",
    "\n",
    "joblib.dump(grid_search_lr, \"model_lr.pkl\") \n",
    "joblib.dump(grid_search_dt, \"model_dt.pkl\") \n",
    "joblib.dump(grid_search_rf, \"model_rf.pkl\") \n",
    "joblib.dump(grid_search_knn, \"model_knn.pkl\") \n",
    "\n",
    "# load\n",
    "#clf2 = joblib.load(\"model.pkl\")"
   ]
  },
  {
   "cell_type": "code",
   "execution_count": null,
   "id": "94f19396",
   "metadata": {},
   "outputs": [],
   "source": []
  },
  {
   "cell_type": "code",
   "execution_count": 15,
   "id": "02df7045",
   "metadata": {},
   "outputs": [],
   "source": [
    "# Calculating the best parameter for every model\n",
    "best_lr = grid_search_lr.best_params_\n",
    "best_dt = grid_search_dt.best_params_\n",
    "best_rf = grid_search_rf.best_params_\n",
    "best_knn = grid_search_knn.best_params_"
   ]
  },
  {
   "cell_type": "code",
   "execution_count": 16,
   "id": "0980eb73",
   "metadata": {},
   "outputs": [
    {
     "name": "stdout",
     "output_type": "stream",
     "text": [
      "Best Parameter - Logistic Regression: {'classifier__C': 0.1}\n",
      "Best Parameter  - Decision Tree: {'classifier__max_depth': 20, 'classifier__min_samples_leaf': 1, 'classifier__min_samples_split': 2}\n",
      "Best Parameter  - Random Forest: {'classifier__max_depth': None, 'classifier__min_samples_split': 2, 'classifier__n_estimators': 150}\n",
      "Best Parameter  - KNN: {'classifier__n_neighbors': 3, 'classifier__weights': 'distance'}\n"
     ]
    }
   ],
   "source": [
    "# Print best parameter\n",
    "print(\"Best Parameter - Logistic Regression:\",best_lr)\n",
    "print(\"Best Parameter  - Decision Tree:\", best_dt)\n",
    "print(\"Best Parameter  - Random Forest:\", best_rf)\n",
    "print(\"Best Parameter  - KNN:\", best_knn )"
   ]
  },
  {
   "cell_type": "markdown",
   "id": "2c5c13b4",
   "metadata": {},
   "source": [
    "## Prediction and Evaluation"
   ]
  },
  {
   "cell_type": "code",
   "execution_count": 17,
   "id": "43600a19",
   "metadata": {},
   "outputs": [],
   "source": [
    "# Prediction on X validation set\n",
    "y_pred_gs_lr = grid_search_lr.predict(X_val_pca)\n",
    "y_pred_gs_dt = grid_search_dt.predict(X_val)\n",
    "y_pred_gs_rf = grid_search_rf.predict(X_val)\n",
    "y_pred_gs_knn = grid_search_knn.predict(X_val_pca)"
   ]
  },
  {
   "cell_type": "code",
   "execution_count": 18,
   "id": "34973d6f",
   "metadata": {},
   "outputs": [],
   "source": [
    "# Evaluate models on validation set\n",
    "val_accuracy_lr = accuracy_score(y_val, y_pred_gs_lr)\n",
    "val_accuracy_dt = accuracy_score(y_val, y_pred_gs_dt)\n",
    "val_accuracy_rf = accuracy_score(y_val, y_pred_gs_rf)\n",
    "val_accuracy_knn = accuracy_score(y_val, y_pred_gs_knn)"
   ]
  },
  {
   "cell_type": "code",
   "execution_count": 19,
   "id": "b0525c91",
   "metadata": {},
   "outputs": [
    {
     "name": "stdout",
     "output_type": "stream",
     "text": [
      "Validation Accuracy - Logistic Regression: 0.9212\n",
      "Validation Accuracy - Decision Tree: 0.871\n",
      "Validation Accuracy - Random Forest: 0.972\n",
      "Validation Accuracy - KNN: 0.9517\n"
     ]
    }
   ],
   "source": [
    "# Print validation accuracies\n",
    "print(\"Validation Accuracy - Logistic Regression:\", val_accuracy_lr)\n",
    "print(\"Validation Accuracy - Decision Tree:\", val_accuracy_dt)\n",
    "print(\"Validation Accuracy - Random Forest:\", val_accuracy_rf)\n",
    "print(\"Validation Accuracy - KNN:\", val_accuracy_knn)\n",
    "\n"
   ]
  },
  {
   "cell_type": "markdown",
   "id": "ed1b40b4",
   "metadata": {},
   "source": [
    "## From the validation accuracies, we can say that Random Forest Classifier performs better than other models."
   ]
  },
  {
   "cell_type": "code",
   "execution_count": 20,
   "id": "b70243a5",
   "metadata": {},
   "outputs": [
    {
     "data": {
      "image/png": "[encoded data removed]",
      "text/plain": [
       "<Figure size 640x480 with 2 Axes>"
      ]
     },
     "metadata": {},
     "output_type": "display_data"
    }
   ],
   "source": [
    "# Since we have got best model as random forest, so we display the confusion matrix for it.\n",
    "from sklearn.metrics import confusion_matrix, ConfusionMatrixDisplay\n",
    "display_confusion_matrix(y_val, y_pred_gs_rf)"
   ]
  },
  {
   "cell_type": "code",
   "execution_count": 21,
   "id": "613d8e17",
   "metadata": {},
   "outputs": [
    {
     "name": "stdout",
     "output_type": "stream",
     "text": [
      "Test Accuracy - Random Forest (Selected Model): 0.9649\n"
     ]
    }
   ],
   "source": [
    "# Evaluate the best model on the test set\n",
    "y_pred_test = grid_search_rf.predict(X_test)\n",
    "test_accuracy = accuracy_score(y_test, y_pred_test)\n",
    "print(\"Test Accuracy - Random Forest (Selected Model):\", test_accuracy)"
   ]
  },
  {
   "cell_type": "markdown",
   "id": "824aa784",
   "metadata": {},
   "source": [
    "## Model Deployment"
   ]
  },
  {
   "cell_type": "code",
   "execution_count": 22,
   "id": "8a7e4f5d",
   "metadata": {},
   "outputs": [
    {
     "name": "stderr",
     "output_type": "stream",
     "text": [
      "2024-03-19 12:40:12.611 \n",
      "  \u001b[33m\u001b[1mWarning:\u001b[0m to view this Streamlit app on a browser, run it with the following\n",
      "  command:\n",
      "\n",
      "    streamlit run C:\\Users\\dines\\anaconda3\\envs\\pystat\\lib\\site-packages\\ipykernel_launcher.py [ARGUMENTS]\n"
     ]
    }
   ],
   "source": [
    "# From here we are preparing for the selected random forest model for deployment in Streamlit Application\n",
    "\n",
    "# Main Streamlit app\n",
    "def main():\n",
    "    st.title('Welcome to the portal - Recognition of Handwritten digits')\n",
    "    st.markdown('## Here you can upload your image')   \n",
    "    st.write('The purpose of this portal is to check whether the random forest model predicts the handwritten digits image correctly or not')      \n",
    "\n",
    "    # Upload image\n",
    "    uploaded_image = st.file_uploader(\"Upload Image\", type=[\"jpg\", \"jpeg\", \"png\"])\n",
    "\n",
    "    if uploaded_image is not None:\n",
    "\n",
    "        # Display uploaded image\n",
    "        st.image(uploaded_image, caption='Uploaded Image', use_column_width=True)\n",
    "\n",
    "        # Open the image file\n",
    "        image = Image.open(uploaded_image)\n",
    "        \n",
    "        # Preprocess the image\n",
    "        grayscale_image = image.convert('L')  # Convert to grayscale\n",
    "        inverted_image = ImageOps.invert(grayscale_image) # Inverting the color of digit and background\n",
    "        resized_image = inverted_image.resize((28, 28))  # Resize image to 28x28 because our input data in model development is 28x28 as well.\n",
    "            \n",
    "        # Convert image to 784 features\n",
    "        data = np.asarray(resized_image)  # Convert image to numpy array\n",
    "        features = data.flatten()  # Flatten the array to 1D\n",
    "        #features = features.reshape(1, -1)  # Reshape to match model input shape\n",
    "\n",
    "        # Display prediction\n",
    "        st.subheader(\"Prediction Interface\")\n",
    "        prediction = grid_search_rf.predict([features])[0]\n",
    "        \n",
    "        # Display preprocessed image\n",
    "        st.subheader(\"Preprocessed Image\")\n",
    "        st.image(resized_image, caption='Preprocessed Image (Grayscale, 28x28)', use_column_width=True)\n",
    "        \n",
    "        # Display prediction\n",
    "        st.markdown(f\"## Predicted digit: {prediction}\")\n",
    "\n",
    "if __name__ == '__main__':\n",
    "    main()"
   ]
  },
  {
   "cell_type": "markdown",
   "id": "670aa6c2",
   "metadata": {},
   "source": [
    "## Thank you"
   ]
  }
 ],
 "metadata": {
  "kernelspec": {
   "display_name": "Python 3 (ipykernel)",
   "language": "python",
   "name": "python3"
  },
  "language_info": {
   "codemirror_mode": {
    "name": "ipython",
    "version": 3
   },
   "file_extension": ".py",
   "mimetype": "text/x-python",
   "name": "python",
   "nbconvert_exporter": "python",
   "pygments_lexer": "ipython3",
   "version": "3.9.18"
  }
 },
 "nbformat": 4,
 "nbformat_minor": 5
}
